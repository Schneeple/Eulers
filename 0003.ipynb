{
 "cells": [
  {
   "cell_type": "code",
   "execution_count": 105,
   "id": "bc8639ce-197d-4134-988f-3710bc2560d3",
   "metadata": {},
   "outputs": [
    {
     "name": "stdout",
     "output_type": "stream",
     "text": [
      "6857\n"
     ]
    }
   ],
   "source": [
    "def isprime(N):\n",
    "    if N > 1:\n",
    "        if N % 2 == 0:\n",
    "            return False\n",
    "        for i in range(3,int(N*0.5) , 2):\n",
    "            if N % i== 0:\n",
    "                return False\n",
    "    return True\n",
    "\n",
    "num = 600851475143\n",
    "\n",
    "for i in range(3,num//2,2):\n",
    "    if num % i == 0:\n",
    "        if isprime(num/i):\n",
    "            print( int(num/i) )\n",
    "            break"
   ]
  }
 ],
 "metadata": {
  "kernelspec": {
   "display_name": "Python 3 (ipykernel)",
   "language": "python",
   "name": "python3"
  },
  "language_info": {
   "codemirror_mode": {
    "name": "ipython",
    "version": 3
   },
   "file_extension": ".py",
   "mimetype": "text/x-python",
   "name": "python",
   "nbconvert_exporter": "python",
   "pygments_lexer": "ipython3",
   "version": "3.9.7"
  }
 },
 "nbformat": 4,
 "nbformat_minor": 5
}
