{
 "cells": [
  {
   "cell_type": "code",
   "execution_count": 62,
   "id": "b69b3690-15fb-413e-902c-61f9233d900d",
   "metadata": {},
   "outputs": [],
   "source": [
    "import numpy as np"
   ]
  },
  {
   "cell_type": "code",
   "execution_count": 63,
   "id": "bc659194-5688-4a78-bac3-229730f4adfb",
   "metadata": {},
   "outputs": [
    {
     "data": {
      "text/plain": [
       "906609"
      ]
     },
     "execution_count": 63,
     "metadata": {},
     "output_type": "execute_result"
    }
   ],
   "source": [
    "def pal(num):\n",
    "    num = str(num)\n",
    "\n",
    "    test = int((len(num)/ 2))\n",
    "    testies = []\n",
    "    for i in range(0, test):\n",
    "        if num[i] == num[-1-i]:\n",
    "            testies.append(True)\n",
    "\n",
    "    if len(testies) == test:\n",
    "        return True\n",
    "    else:\n",
    "        return False\n",
    "        \n",
    "ns = []\n",
    "\n",
    "for i in range(100,1000):\n",
    "    for j in range(100,1000):\n",
    "        numb = i * j\n",
    "        if pal(numb):\n",
    "            ns.append(numb)\n",
    "            \n",
    "np.array(ns).max()  "
   ]
  }
 ],
 "metadata": {
  "kernelspec": {
   "display_name": "Python 3 (ipykernel)",
   "language": "python",
   "name": "python3"
  },
  "language_info": {
   "codemirror_mode": {
    "name": "ipython",
    "version": 3
   },
   "file_extension": ".py",
   "mimetype": "text/x-python",
   "name": "python",
   "nbconvert_exporter": "python",
   "pygments_lexer": "ipython3",
   "version": "3.9.7"
  }
 },
 "nbformat": 4,
 "nbformat_minor": 5
}
