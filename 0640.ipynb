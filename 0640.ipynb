{
 "cells": [
  {
   "cell_type": "markdown",
   "id": "14eda2e4",
   "metadata": {},
   "source": [
    "Bob plays a single-player game of chance using two standard 6-sided dice and twelve cards numbered 1 to 12. When the game starts, all cards are placed face up on a table.\n",
    "\n",
    "Each turn, Bob rolls both dice, getting numbers x and y respectively, each in the range 1,...,6. He must choose amongst three options: turn over card x , card y, or card x+y. (If the chosen card is already face down, it is turned to face up, and vice versa.)\n",
    "\n",
    "If Bob manages to have all twelve cards face down at the same time, he wins.\n",
    "\n",
    "Alice plays a similar game, except that instead of dice she uses two fair coins, counting heads as 2 and tails as 1, and that she uses four cards instead of twelve. Alice finds that, with the optimal strategy for her game, the expected number of turns taken until she wins is approximately 5.673651.\n",
    "\n",
    "Assuming that Bob plays with an optimal strategy, what is the expected number of turns taken until he wins? Give your answer rounded to 6 places after the decimal point."
   ]
  },
  {
   "cell_type": "code",
   "execution_count": 64,
   "id": "bd81ed14",
   "metadata": {},
   "outputs": [],
   "source": [
    "from random import seed\n",
    "from random import randint\n",
    "import numpy as np\n",
    "# seed(1)\n",
    "\n",
    "number_of_cards = 4\n",
    "sided_dice = 2\n",
    "\n",
    "\n",
    "\n",
    "class Dice(object):\n",
    "    def __init__(self, sides = 6):\n",
    "        self.sides = sides\n",
    "    def Roll(self):\n",
    "        return randint(1, self.sides)\n",
    "        \n",
    "\n",
    "class Card(object):\n",
    "    def __init__(self, number):\n",
    "        self.number = number\n",
    "        self.position = True # 1 up/ 0 down\n",
    "        \n",
    "    def Flip(self):\n",
    "        if self.position == True:\n",
    "            self.position = False\n",
    "        else:\n",
    "            self.position = True\n",
    "        \n",
    "def flip_card():\n",
    "    \n",
    "    x = Dice(sided_dice).Roll()\n",
    "    y = Dice(sided_dice).Roll()\n",
    "    \n",
    "    possible_flips = [cards[x-1].position , cards[y-1].position , cards[x+y-1].position]\n",
    "    if possible_flips[2] == 1:\n",
    "        cards[x+y-1].Flip()\n",
    "    if possible_flips[0] == 1 and possible_flips[1] == 0:\n",
    "        cards[x-1].Flip()\n",
    "    elif possible_flips[0] == 0 and possible_flips[1] == 1:\n",
    "        cards[y-1].Flip()\n",
    "    elif possible_flips[0] == 0 and possible_flips[1] == 0:\n",
    "        num = randint(1,2)\n",
    "        if num == 1:\n",
    "            cards[x-1].Flip()\n",
    "        else:\n",
    "            cards[y-1].Flip()\n",
    "        \n",
    "\n",
    "def return_val(val):\n",
    "    d= {True:1, False:0} \n",
    "    return d[val]\n",
    "\n",
    "def return_int(lis):\n",
    "    return list(map(return_val , lis))\n",
    "        \n",
    "def print_cards(cards):\n",
    "    mid = len(cards)/2\n",
    "    top, bottom = [], []\n",
    "    for i in range(len(cards)):\n",
    "        card = cards[i]\n",
    "        if i < mid:\n",
    "            top.append(card.position)\n",
    "        else:\n",
    "            bottom.append(card.position)\n",
    "            \n",
    "    print(return_int(top))\n",
    "    print(return_int(bottom))\n",
    "    print(\"\\n\")\n",
    "    \n",
    "def check_solved(cards):\n",
    "    num = 0\n",
    "    for card in cards:\n",
    "        if card.position == True:\n",
    "            return False\n",
    "    return True\n",
    "\n",
    "cards = [Card(i) for i in range(1,number_of_cards+1)]\n",
    "\n",
    "\n",
    "flippers = []\n",
    "for i in range(1e7):\n",
    "    flips = 0\n",
    "    solved = False\n",
    "    while solved == False:\n",
    "        flip_card()\n",
    "        flips +=1\n",
    "        solved = check_solved(cards)\n",
    "    \n",
    "    flippers.append(flips)\n",
    "    \n",
    "\n",
    "print(np.array(flippers).mean())"
   ]
  },
  {
   "cell_type": "code",
   "execution_count": 65,
   "id": "e432d142",
   "metadata": {},
   "outputs": [
    {
     "name": "stdout",
     "output_type": "stream",
     "text": [
      "4.329451\n"
     ]
    }
   ],
   "source": []
  },
  {
   "cell_type": "code",
   "execution_count": 35,
   "id": "c70031f5",
   "metadata": {},
   "outputs": [
    {
     "data": {
      "text/plain": [
       "[1]"
      ]
     },
     "execution_count": 35,
     "metadata": {},
     "output_type": "execute_result"
    }
   ],
   "source": []
  },
  {
   "cell_type": "code",
   "execution_count": 27,
   "id": "038e195b",
   "metadata": {},
   "outputs": [
    {
     "ename": "TypeError",
     "evalue": "'dict' object is not callable",
     "output_type": "error",
     "traceback": [
      "\u001b[1;31m---------------------------------------------------------------------------\u001b[0m",
      "\u001b[1;31mTypeError\u001b[0m                                 Traceback (most recent call last)",
      "\u001b[1;32mC:\\Users\\COLTON~1.NEA\\AppData\\Local\\Temp/ipykernel_15548/3587023239.py\u001b[0m in \u001b[0;36m<module>\u001b[1;34m\u001b[0m\n\u001b[1;32m----> 1\u001b[1;33m \u001b[1;32mfor\u001b[0m \u001b[0mi\u001b[0m \u001b[1;32min\u001b[0m \u001b[0mmap\u001b[0m\u001b[1;33m(\u001b[0m\u001b[1;33m{\u001b[0m\u001b[1;32mTrue\u001b[0m\u001b[1;33m:\u001b[0m\u001b[1;36m1\u001b[0m\u001b[1;33m,\u001b[0m \u001b[1;32mFalse\u001b[0m\u001b[1;33m:\u001b[0m\u001b[1;36m0\u001b[0m\u001b[1;33m}\u001b[0m \u001b[1;33m,\u001b[0m \u001b[1;33m[\u001b[0m\u001b[1;32mTrue\u001b[0m\u001b[1;33m]\u001b[0m\u001b[1;33m)\u001b[0m\u001b[1;33m:\u001b[0m\u001b[1;33m\u001b[0m\u001b[1;33m\u001b[0m\u001b[0m\n\u001b[0m\u001b[0;32m      2\u001b[0m     \u001b[0mprint\u001b[0m\u001b[1;33m(\u001b[0m\u001b[0mi\u001b[0m\u001b[1;33m)\u001b[0m\u001b[1;33m\u001b[0m\u001b[1;33m\u001b[0m\u001b[0m\n",
      "\u001b[1;31mTypeError\u001b[0m: 'dict' object is not callable"
     ]
    }
   ],
   "source": [
    "for i in map(, [True])"
   ]
  },
  {
   "cell_type": "code",
   "execution_count": 52,
   "id": "00dfa5a2",
   "metadata": {},
   "outputs": [
    {
     "data": {
      "text/plain": [
       "1"
      ]
     },
     "execution_count": 52,
     "metadata": {},
     "output_type": "execute_result"
    }
   ],
   "source": []
  },
  {
   "cell_type": "code",
   "execution_count": null,
   "id": "e63fd078",
   "metadata": {},
   "outputs": [],
   "source": []
  }
 ],
 "metadata": {
  "kernelspec": {
   "display_name": "Python 3 (ipykernel)",
   "language": "python",
   "name": "python3"
  },
  "language_info": {
   "codemirror_mode": {
    "name": "ipython",
    "version": 3
   },
   "file_extension": ".py",
   "mimetype": "text/x-python",
   "name": "python",
   "nbconvert_exporter": "python",
   "pygments_lexer": "ipython3",
   "version": "3.9.7"
  }
 },
 "nbformat": 4,
 "nbformat_minor": 5
}
