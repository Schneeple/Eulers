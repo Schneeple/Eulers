{
 "cells": [
  {
   "cell_type": "code",
   "execution_count": null,
   "id": "8885bbd3-e50d-4d9b-adf2-1379158d6a51",
   "metadata": {},
   "outputs": [],
   "source": [
    "def pan(num1,num2,num3):\n",
    "    "
   ]
  }
 ],
 "metadata": {
  "kernelspec": {
   "display_name": "Python 3 (ipykernel)",
   "language": "python",
   "name": "python3"
  },
  "language_info": {
   "codemirror_mode": {
    "name": "ipython",
    "version": 3
   },
   "file_extension": ".py",
   "mimetype": "text/x-python",
   "name": "python",
   "nbconvert_exporter": "python",
   "pygments_lexer": "ipython3",
   "version": "3.9.7"
  }
 },
 "nbformat": 4,
 "nbformat_minor": 5
}
