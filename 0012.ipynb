{
 "cells": [
  {
   "cell_type": "code",
   "execution_count": null,
   "id": "0ca9f69d-f393-4ce4-b110-fd9a101e3771",
   "metadata": {},
   "outputs": [
    {
     "name": "stdout",
     "output_type": "stream",
     "text": [
      "result 76576500.0 returned in 1.480154037475586 seconds.\n"
     ]
    }
   ],
   "source": [
    "\n",
    "import math\n",
    "\n",
    "triangle = 0\n",
    "natural = 1\n",
    "UPPER_LIMIT = 1e6\n",
    "\n",
    "def FindDivisors(num):    \n",
    "    divisors = 0\n",
    "    for i in range(1, math.ceil(math.sqrt(num))):\n",
    "        if num % i == 0:\n",
    "            divisors += 1\n",
    "            \n",
    "    if(num % 2 == 0):\n",
    "        return divisors * 2\n",
    "    else:\n",
    "        return divisors * 2 - 1\n",
    "            \n",
    "\n",
    "while(natural < UPPER_LIMIT):\n",
    "    triangle += natural\n",
    "    natural += 1\n",
    "    divisors = FindDivisors(triangle)\n",
    "    \n",
    "    if divisors > 500:\n",
    "        print(f\"triangle: {triangle}\")\n",
    "        break"
   ]
  },
  {
   "cell_type": "code",
   "execution_count": null,
   "id": "27b2a3e3-d18f-48f3-b905-a7ba98ae2b65",
   "metadata": {},
   "outputs": [],
   "source": []
  },
  {
   "cell_type": "code",
   "execution_count": null,
   "id": "0f7abb86-7791-4bf0-a4d7-365aa6078880",
   "metadata": {},
   "outputs": [],
   "source": []
  },
  {
   "cell_type": "code",
   "execution_count": null,
   "id": "bf58df05-bac9-4625-aac8-0b15761b3675",
   "metadata": {},
   "outputs": [],
   "source": []
  }
 ],
 "metadata": {
  "kernelspec": {
   "display_name": "Python 3 (ipykernel)",
   "language": "python",
   "name": "python3"
  },
  "language_info": {
   "codemirror_mode": {
    "name": "ipython",
    "version": 3
   },
   "file_extension": ".py",
   "mimetype": "text/x-python",
   "name": "python",
   "nbconvert_exporter": "python",
   "pygments_lexer": "ipython3",
   "version": "3.9.7"
  }
 },
 "nbformat": 4,
 "nbformat_minor": 5
}
