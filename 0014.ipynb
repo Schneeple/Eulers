{
 "cells": [
  {
   "cell_type": "code",
   "execution_count": 23,
   "id": "dc74db14-57da-4dbb-bde2-d5f30179c74e",
   "metadata": {},
   "outputs": [
    {
     "name": "stderr",
     "output_type": "stream",
     "text": [
      "100%|██████████| 20000/20000 [00:00<00:00, 25534.55it/s]\n"
     ]
    },
    {
     "data": {
      "text/plain": [
       "[997823, 440]"
      ]
     },
     "execution_count": 23,
     "metadata": {},
     "output_type": "execute_result"
    }
   ],
   "source": [
    "# n → n/2 (n is even)\n",
    "# n → 3n + 1 (n is odd)\n",
    "\n",
    "def fu(num, count = 1):\n",
    "    if num == 1:\n",
    "        return count\n",
    "    count+=1\n",
    "    if num % 2 == 0:\n",
    "        a = fu(int(num/2), count)\n",
    "    else:\n",
    "        a = fu(int((3*num)+1), count)\n",
    "        \n",
    "    return a\n",
    "from tqdm import tqdm        \n",
    "xxx = [0,1]\n",
    "for i in tqdm(range(1000000,980000,-1)):\n",
    "    a = fu(i)\n",
    "    if a > xxx[1]:\n",
    "        xxx[0] = i\n",
    "        xxx[1] = a\n",
    "        \n",
    "xxx"
   ]
  },
  {
   "cell_type": "code",
   "execution_count": null,
   "id": "7fec3b70-d3be-445c-9099-d173b6677db7",
   "metadata": {},
   "outputs": [],
   "source": []
  }
 ],
 "metadata": {
  "kernelspec": {
   "display_name": "Python 3 (ipykernel)",
   "language": "python",
   "name": "python3"
  },
  "language_info": {
   "codemirror_mode": {
    "name": "ipython",
    "version": 3
   },
   "file_extension": ".py",
   "mimetype": "text/x-python",
   "name": "python",
   "nbconvert_exporter": "python",
   "pygments_lexer": "ipython3",
   "version": "3.9.7"
  }
 },
 "nbformat": 4,
 "nbformat_minor": 5
}
