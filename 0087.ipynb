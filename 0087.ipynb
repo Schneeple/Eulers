{
 "cells": [
  {
   "cell_type": "code",
   "execution_count": 10,
   "id": "ada756af-5951-4e1e-a915-82bb225e37c6",
   "metadata": {},
   "outputs": [],
   "source": [
    "import numpy as np\n",
    "from tqdm import tqdm \n",
    "start = 50000000\n",
    "sq4 = 85.19999999999919\n",
    "sq3 = 369.60000000001503\n",
    "sq2 = 7072.2000000081935\n",
    "\n",
    "# GET sq2, sq3, sq4\n",
    "# g = -10000\n",
    "# s = 70\n",
    "# while g < 0:\n",
    "#     y = s*s#*s*s\n",
    "#     g = ((y-start)/start)\n",
    "#     s += 0.1\n",
    "# s\n",
    "\n",
    "def isprime(N):\n",
    "    if N > 1:\n",
    "        if N % 2 == 0:\n",
    "            return False\n",
    "        for i in range(3,int(N*0.5) , 2):\n",
    "            if N % i== 0:\n",
    "                return False\n",
    "    return True\n",
    "\n",
    "primes = [2]\n",
    "for i in tqdm(range(2,int(sq3+5))):\n",
    "    check = isprime(i)\n",
    "    if check:\n",
    "        primes.append(i)\n",
    "\n",
    "anus = []\n",
    "\n",
    "for i in tqdm(primes):\n",
    "    for j in primes:\n",
    "        for k in primes:\n",
    "            if i < sq2 and j < sq3 and k < sq4:\n",
    "                ans = i**2 + j**3 + k**4\n",
    "                if ans < start:\n",
    "                    anus.append(ans)\n",
    "\n",
    "len(set(anus))"
   ]
  },
  {
   "cell_type": "code",
   "execution_count": null,
   "id": "6c6f06d6-9fc5-4a08-a075-0f2de6dc5bec",
   "metadata": {},
   "outputs": [],
   "source": []
  },
  {
   "cell_type": "code",
   "execution_count": null,
   "id": "a29c7176-57fc-4bff-87ab-23fe9e4a6b49",
   "metadata": {},
   "outputs": [],
   "source": []
  }
 ],
 "metadata": {
  "kernelspec": {
   "display_name": "Python 3 (ipykernel)",
   "language": "python",
   "name": "python3"
  },
  "language_info": {
   "codemirror_mode": {
    "name": "ipython",
    "version": 3
   },
   "file_extension": ".py",
   "mimetype": "text/x-python",
   "name": "python",
   "nbconvert_exporter": "python",
   "pygments_lexer": "ipython3",
   "version": "3.11.6"
  }
 },
 "nbformat": 4,
 "nbformat_minor": 5
}
