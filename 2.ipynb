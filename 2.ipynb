{
 "cells": [
  {
   "cell_type": "code",
   "execution_count": 9,
   "id": "d4ed1e81-f086-4027-bc12-79f9b897a77d",
   "metadata": {},
   "outputs": [
    {
     "name": "stdout",
     "output_type": "stream",
     "text": [
      "4613732\n"
     ]
    }
   ],
   "source": [
    "a = range(2,60)\n",
    "\n",
    "fib = [1,2]\n",
    "for i in a:\n",
    "    if fib[i-1]+fib[i-2] <= 4000000:\n",
    "        fib.append(fib[i-1]+fib[i-2])\n",
    "    else: \n",
    "        break\n",
    "total = 0\n",
    "for i in fib:\n",
    "    if i % 2 == 0:\n",
    "        total += i\n",
    "print(total)"
   ]
  }
 ],
 "metadata": {
  "kernelspec": {
   "display_name": "Python 3",
   "language": "python",
   "name": "python3"
  },
  "language_info": {
   "codemirror_mode": {
    "name": "ipython",
    "version": 3
   },
   "file_extension": ".py",
   "mimetype": "text/x-python",
   "name": "python",
   "nbconvert_exporter": "python",
   "pygments_lexer": "ipython3",
   "version": "3.9.2"
  }
 },
 "nbformat": 4,
 "nbformat_minor": 5
}
