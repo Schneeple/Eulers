{
 "cells": [
  {
   "cell_type": "code",
   "execution_count": 66,
   "id": "295c295c-43c4-4551-93b2-0bdf15886031",
   "metadata": {},
   "outputs": [
    {
     "data": {
      "text/plain": [
       "137846528820.0"
      ]
     },
     "execution_count": 66,
     "metadata": {},
     "output_type": "execute_result"
    }
   ],
   "source": [
    "import math\n",
    "math.factorial(40)/math.factorial(20) / math.factorial(20)"
   ]
  }
 ],
 "metadata": {
  "kernelspec": {
   "display_name": "Python 3 (ipykernel)",
   "language": "python",
   "name": "python3"
  },
  "language_info": {
   "codemirror_mode": {
    "name": "ipython",
    "version": 3
   },
   "file_extension": ".py",
   "mimetype": "text/x-python",
   "name": "python",
   "nbconvert_exporter": "python",
   "pygments_lexer": "ipython3",
   "version": "3.9.7"
  }
 },
 "nbformat": 4,
 "nbformat_minor": 5
}
