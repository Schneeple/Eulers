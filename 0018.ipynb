{
 "cells": [
  {
   "cell_type": "code",
   "execution_count": 38,
   "id": "3f839bb7-6735-4cbf-b28e-008ef5194cde",
   "metadata": {},
   "outputs": [
    {
     "name": "stderr",
     "output_type": "stream",
     "text": [
      "100%|██████████| 15/15 [00:37<00:00,  2.50s/it]\n"
     ]
    },
    {
     "data": {
      "text/plain": [
       "1074"
      ]
     },
     "execution_count": 38,
     "metadata": {},
     "output_type": "execute_result"
    }
   ],
   "source": [
    "import random\n",
    "from tqdm import tqdm\n",
    "\n",
    "x = [[75],\n",
    "[95 ,64],\n",
    "[17 ,47 ,82],\n",
    "[18 ,35 ,87 ,10],\n",
    "[20 , 4 ,82 ,47 ,65],\n",
    "[19 , 1 ,23 ,75 , 3 ,34],\n",
    "[88 , 2 ,77 ,73 , 7 ,63 ,67],\n",
    "[99 ,65 , 4 ,28 , 6 ,16 ,70 ,92],\n",
    "[41 ,41 ,26 ,56 ,83 ,40 ,80 ,70 ,33],\n",
    "[41 ,48 ,72 ,33 ,47 ,32 ,37 ,16 ,94 ,29],\n",
    "[53 ,71 ,44 ,65 ,25 ,43 ,91 ,52 ,97 ,51 ,14],\n",
    "[70 ,11 ,33 ,28 ,77 ,73 ,17 ,78 ,39 ,68 ,17 ,57],\n",
    "[91 ,71 ,52 ,38 ,17 ,14 ,91 ,43 ,58 ,50 ,27 ,29 ,48],\n",
    "[63 ,66 , 4 ,68 ,89 ,53 ,67 ,30 ,73 ,16 ,69 ,87 ,40 ,31],\n",
    "[ 4 ,62 ,98 ,27 ,23 , 9 ,70 ,98 ,73 ,93 ,38 ,53 ,60 , 4 ,23]]\n",
    "\n",
    "class node:\n",
    "    def __init__(self, value):\n",
    "        self.value = value\n",
    "        self.left_parent = None\n",
    "        self.right_parent = None\n",
    "        self.left = None\n",
    "        self.right = None\n",
    "        \n",
    "def indexExists(list,index):\n",
    "    if 0 <= index < len(list):\n",
    "        return True\n",
    "    else:\n",
    "        return False\n",
    "\n",
    "\n",
    "graph = [[node(c) for c in r] for r in x]\n",
    "    \n",
    "for i in range(len(x)-1):\n",
    "    row = graph[i]\n",
    "    row_next = graph[i+1]\n",
    "    for j in range(len(row)):\n",
    "        if indexExists(row_next,j):\n",
    "            row[j].left = row_next[j]\n",
    "            row_next[j].right_parent = row[j]\n",
    "        if indexExists(row_next,j+1):\n",
    "            row[j].right = row_next[j+1]\n",
    "            row_next[j+1].left_parent = row[j]\n",
    "            \n",
    "largest = 0\n",
    "for uu in tqdm(range(len(graph[-1]))):\n",
    "    \n",
    "    for i in range(0,100000):\n",
    "        val = 0\n",
    "        node_of_interest = graph[-1][uu]\n",
    "        val += node_of_interest.value\n",
    "\n",
    "        while node_of_interest.right_parent != None or node_of_interest.left_parent != None:\n",
    "            gggg = random.randint(1,2)\n",
    "            # print(gggg)\n",
    "            if gggg == 1:\n",
    "                if node_of_interest.right_parent != None:\n",
    "                    # print('up right', node_of_interest.right_parent.value)\n",
    "                    node_of_interest = node_of_interest.right_parent\n",
    "                    node_of_interest.left = None\n",
    "                    val += node_of_interest.value\n",
    "            if gggg == 2:\n",
    "                if node_of_interest.left_parent != None:\n",
    "                    # print('up left', node_of_interest.left_parent.value)\n",
    "                    node_of_interest = node_of_interest.left_parent\n",
    "                    node_of_interest.right = None\n",
    "                    val += node_of_interest.value\n",
    "\n",
    "        if val > largest:\n",
    "            largest = val\n",
    "    \n",
    "        \n",
    "largest"
   ]
  }
 ],
 "metadata": {
  "kernelspec": {
   "display_name": "Python 3 (ipykernel)",
   "language": "python",
   "name": "python3"
  },
  "language_info": {
   "codemirror_mode": {
    "name": "ipython",
    "version": 3
   },
   "file_extension": ".py",
   "mimetype": "text/x-python",
   "name": "python",
   "nbconvert_exporter": "python",
   "pygments_lexer": "ipython3",
   "version": "3.9.7"
  }
 },
 "nbformat": 4,
 "nbformat_minor": 5
}
