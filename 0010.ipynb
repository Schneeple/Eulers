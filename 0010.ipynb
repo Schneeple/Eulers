{
 "cells": [
  {
   "cell_type": "code",
   "execution_count": 33,
   "id": "84d736cf-8a14-4478-bfff-6634a52cd9a1",
   "metadata": {},
   "outputs": [],
   "source": [
    "def isprime(N):\n",
    "    if N > 1:\n",
    "        if N == 2:\n",
    "            return True\n",
    "        if N % 2 == 0:\n",
    "            return False\n",
    "        for i in range(3,int(N*0.5) , 2):\n",
    "            if N % i== 0:\n",
    "                return False\n",
    "    return True"
   ]
  },
  {
   "cell_type": "code",
   "execution_count": 39,
   "id": "fe07e1b7-ee6a-4b63-863c-faf36833e40d",
   "metadata": {},
   "outputs": [
    {
     "name": "stderr",
     "output_type": "stream",
     "text": [
      "100%|██████████| 999999/999999 [19:08:21<00:00, 14.51it/s]       \n"
     ]
    },
    {
     "data": {
      "text/plain": [
       "142913828922"
      ]
     },
     "execution_count": 39,
     "metadata": {},
     "output_type": "execute_result"
    }
   ],
   "source": [
    "from tqdm import tqdm \n",
    "\n",
    "vals = 0\n",
    "for i in tqdm(range(3,2000000,2)):\n",
    "    # print(i)\n",
    "    if isprime(i):\n",
    "        vals +=i\n",
    "vals+2"
   ]
  },
  {
   "cell_type": "code",
   "execution_count": null,
   "id": "1fdcb6dc-adcb-429f-a07f-09e15194c987",
   "metadata": {},
   "outputs": [],
   "source": []
  },
  {
   "cell_type": "code",
   "execution_count": null,
   "id": "51b71577-5848-4a2d-8d4d-8ee75c5943a4",
   "metadata": {},
   "outputs": [],
   "source": []
  }
 ],
 "metadata": {
  "kernelspec": {
   "display_name": "Python 3 (ipykernel)",
   "language": "python",
   "name": "python3"
  },
  "language_info": {
   "codemirror_mode": {
    "name": "ipython",
    "version": 3
   },
   "file_extension": ".py",
   "mimetype": "text/x-python",
   "name": "python",
   "nbconvert_exporter": "python",
   "pygments_lexer": "ipython3",
   "version": "3.9.7"
  }
 },
 "nbformat": 4,
 "nbformat_minor": 5
}
