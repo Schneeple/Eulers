{
 "cells": [
  {
   "cell_type": "code",
   "execution_count": 11,
   "id": "b83c45e6-53ae-4bf8-a8d0-4376641fb331",
   "metadata": {},
   "outputs": [
    {
     "data": {
      "text/plain": [
       "25164150"
      ]
     },
     "execution_count": 11,
     "metadata": {},
     "output_type": "execute_result"
    }
   ],
   "source": [
    "def sum_squares(N):\n",
    "    val = 0\n",
    "    for i in range(1,N+1):\n",
    "        val += i**2\n",
    "    return val\n",
    "\n",
    "def square_sums(N):\n",
    "    val = 0\n",
    "    for i in range(1,N+1):\n",
    "        val += i\n",
    "    return val**2\n",
    "\n",
    "def difference(N):\n",
    "    return square_sums(N) - sum_squares(N)\n",
    "\n",
    "difference(100)"
   ]
  }
 ],
 "metadata": {
  "kernelspec": {
   "display_name": "Python 3 (ipykernel)",
   "language": "python",
   "name": "python3"
  },
  "language_info": {
   "codemirror_mode": {
    "name": "ipython",
    "version": 3
   },
   "file_extension": ".py",
   "mimetype": "text/x-python",
   "name": "python",
   "nbconvert_exporter": "python",
   "pygments_lexer": "ipython3",
   "version": "3.9.7"
  }
 },
 "nbformat": 4,
 "nbformat_minor": 5
}
