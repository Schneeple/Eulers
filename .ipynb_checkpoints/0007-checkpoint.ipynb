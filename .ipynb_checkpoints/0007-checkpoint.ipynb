{
 "cells": [
  {
   "cell_type": "markdown",
   "id": "ddc2da9a-b39c-4c4c-a314-abfa27a3c4c7",
   "metadata": {},
   "source": [
    "# Prime digit Function"
   ]
  },
  {
   "cell_type": "code",
   "execution_count": 91,
   "id": "75f783b4-edfd-4eaa-a25f-2f777f404475",
   "metadata": {},
   "outputs": [],
   "source": [
    "def prime(number):\n",
    "    val = True\n",
    "    for i in range(2,number-1):\n",
    "        if number % i == 0:\n",
    "            val = False\n",
    "        else:\n",
    "            pass\n",
    "    return val"
   ]
  },
  {
   "cell_type": "code",
   "execution_count": 99,
   "id": "4970edf1-d712-401c-ad1c-2cba69f457f3",
   "metadata": {},
   "outputs": [
    {
     "data": {
      "text/plain": [
       "104743"
      ]
     },
     "execution_count": 99,
     "metadata": {},
     "output_type": "execute_result"
    }
   ],
   "source": [
    "x = []\n",
    "for i in range(10000000):\n",
    "    print(len(x))\n",
    "    if len(x)> 10002:\n",
    "         break\n",
    "    if prime(i):\n",
    "        x.append(i)\n",
    "x[-1]"
   ]
  },
  {
   "cell_type": "code",
   "execution_count": null,
   "id": "d4da3cc5-b4c3-4392-86e1-8cfe5214ac09",
   "metadata": {},
   "outputs": [],
   "source": []
  },
  {
   "cell_type": "code",
   "execution_count": null,
   "id": "d12cfc3b-579b-40ce-8355-d6ee545ffec8",
   "metadata": {},
   "outputs": [],
   "source": []
  },
  {
   "cell_type": "code",
   "execution_count": null,
   "id": "b14a485f-ffc5-4626-97b0-dc4065eff800",
   "metadata": {},
   "outputs": [],
   "source": []
  }
 ],
 "metadata": {
  "kernelspec": {
   "display_name": "Python 3",
   "language": "python",
   "name": "python3"
  },
  "language_info": {
   "codemirror_mode": {
    "name": "ipython",
    "version": 3
   },
   "file_extension": ".py",
   "mimetype": "text/x-python",
   "name": "python",
   "nbconvert_exporter": "python",
   "pygments_lexer": "ipython3",
   "version": "3.9.2"
  }
 },
 "nbformat": 4,
 "nbformat_minor": 5
}
