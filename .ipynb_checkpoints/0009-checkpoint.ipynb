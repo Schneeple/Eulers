{
 "cells": [
  {
   "cell_type": "code",
   "execution_count": 8,
   "id": "00757399-b647-420d-a141-328bc80950a5",
   "metadata": {},
   "outputs": [
    {
     "name": "stdout",
     "output_type": "stream",
     "text": [
      "31875000\n"
     ]
    }
   ],
   "source": [
    "import numpy as np\n",
    "\n",
    "x = []\n",
    "for a in range(1000):\n",
    "    for b in range(1000):\n",
    "        c2 = a**2+b**2\n",
    "        c = np.sqrt(c2)\n",
    "        if a < b< c:\n",
    "            if a +b+c > 999.999 and a + b + c < 1000.001:\n",
    "                print( int(a*b*c) )"
   ]
  },
  {
   "cell_type": "code",
   "execution_count": null,
   "id": "211c184c-74c0-4056-b7b3-b4c8eeef562b",
   "metadata": {},
   "outputs": [],
   "source": []
  }
 ],
 "metadata": {
  "kernelspec": {
   "display_name": "Python 3 (ipykernel)",
   "language": "python",
   "name": "python3"
  },
  "language_info": {
   "codemirror_mode": {
    "name": "ipython",
    "version": 3
   },
   "file_extension": ".py",
   "mimetype": "text/x-python",
   "name": "python",
   "nbconvert_exporter": "python",
   "pygments_lexer": "ipython3",
   "version": "3.9.7"
  }
 },
 "nbformat": 4,
 "nbformat_minor": 5
}
