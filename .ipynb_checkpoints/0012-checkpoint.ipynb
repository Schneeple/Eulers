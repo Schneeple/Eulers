{
 "cells": [
  {
   "cell_type": "code",
   "execution_count": 21,
   "id": "a1943abe-d75c-476d-b323-8bf3fe40aa32",
   "metadata": {},
   "outputs": [
    {
     "data": {
      "text/plain": [
       "76576500"
      ]
     },
     "execution_count": 21,
     "metadata": {},
     "output_type": "execute_result"
    }
   ],
   "source": [
    "\n",
    "def divisable(N):\n",
    "    x = 0\n",
    "    for i in range(1,N+1):\n",
    "        if N % i == 0:\n",
    "            x+=1\n",
    "    return x\n",
    "\n",
    "def triangle_numbers(N):\n",
    "    res = 0\n",
    "    for i in range(N+1):\n",
    "        res +=i\n",
    "    return res\n",
    "\n",
    "nums = {}\n",
    "for N in range(12375,20000):\n",
    "    summ = triangle_numbers(N)\n",
    "    lee = divisable(summ)\n",
    "    if lee>=500:\n",
    "        break\n",
    "    \n",
    "ans = 0\n",
    "for i in range(1,N+1):\n",
    "    ans+=i\n",
    "ans"
   ]
  }
 ],
 "metadata": {
  "kernelspec": {
   "display_name": "Python 3 (ipykernel)",
   "language": "python",
   "name": "python3"
  },
  "language_info": {
   "codemirror_mode": {
    "name": "ipython",
    "version": 3
   },
   "file_extension": ".py",
   "mimetype": "text/x-python",
   "name": "python",
   "nbconvert_exporter": "python",
   "pygments_lexer": "ipython3",
   "version": "3.9.7"
  }
 },
 "nbformat": 4,
 "nbformat_minor": 5
}
