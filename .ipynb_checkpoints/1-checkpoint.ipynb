{
 "cells": [
  {
   "cell_type": "code",
   "execution_count": 17,
   "id": "f439e29b-f7de-40a2-8efb-8613b65ce88b",
   "metadata": {},
   "outputs": [
    {
     "data": {
      "text/plain": [
       "233168"
      ]
     },
     "execution_count": 17,
     "metadata": {},
     "output_type": "execute_result"
    }
   ],
   "source": [
    "total = 0\n",
    "for num in range(1,1000):\n",
    "    stop = False\n",
    "    if num % 3 == 0:\n",
    "        total += num\n",
    "        stop = True\n",
    "    if num % 5 == 0:\n",
    "        if stop == False:\n",
    "            total += num\n",
    "total"
   ]
  },
  {
   "cell_type": "code",
   "execution_count": null,
   "id": "ee0dd4cd-3323-4baa-ba52-71cde55a943c",
   "metadata": {},
   "outputs": [],
   "source": []
  }
 ],
 "metadata": {
  "kernelspec": {
   "display_name": "Python 3",
   "language": "python",
   "name": "python3"
  },
  "language_info": {
   "codemirror_mode": {
    "name": "ipython",
    "version": 3
   },
   "file_extension": ".py",
   "mimetype": "text/x-python",
   "name": "python",
   "nbconvert_exporter": "python",
   "pygments_lexer": "ipython3",
   "version": "3.9.2"
  }
 },
 "nbformat": 4,
 "nbformat_minor": 5
}
